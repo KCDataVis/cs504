{
 "cells": [
  {
   "cell_type": "code",
   "execution_count": null,
   "metadata": {},
   "outputs": [],
   "source": [
    "import os\n",
    "\n",
    "#final file will be stored in the Merged folder at \"...\\Merged\" ...is current direcotry in my case\n",
    "dir_create = os.getcwd() + \"\\Merged\"\n",
    "#create the Merged directory\n",
    "os.makedirs(dir_create, exist_ok=True) \n",
    "#new .csv file to be created\n",
    "output_file = dir_create + \"\\\\all_stocks_5yr.csv\"   \n",
    "#find all .csv files in current directory (drawback is you can only have relevant .csv files in your current directory)\n",
    "stock_files = glob.glob(\"*.csv\") \n",
    "#set header_saved flag\n",
    "header_saved = False\n",
    "with open(output_file, 'w') as fout:\n",
    "    for filename in stock_files:    \n",
    "        with open(filename) as fin:\n",
    "            #assigns content of first line to header then line pointer moves to next line\n",
    "            header = next(fin)  \n",
    "            #since all files have column names, grab column names only once based on \n",
    "            # header_saved flag,then turn off the flag for all other files\n",
    "            if not header_saved:\n",
    "                fout.write(header)\n",
    "                header_saved = True\n",
    "            for line in fin:\n",
    "                fout.write(line)\n",
    "                "
   ]
  }
 ],
 "metadata": {
  "kernelspec": {
   "display_name": "Python 3",
   "language": "python",
   "name": "python3"
  },
  "language_info": {
   "codemirror_mode": {
    "name": "ipython",
    "version": 3
   },
   "file_extension": ".py",
   "mimetype": "text/x-python",
   "name": "python",
   "nbconvert_exporter": "python",
   "pygments_lexer": "ipython3",
   "version": "3.7.1"
  }
 },
 "nbformat": 4,
 "nbformat_minor": 2
}
